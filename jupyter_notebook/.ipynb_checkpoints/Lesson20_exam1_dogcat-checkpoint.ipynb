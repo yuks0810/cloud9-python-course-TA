{
 "cells": [
  {
   "cell_type": "markdown",
   "metadata": {},
   "source": [
    "# 【課題1】写真に映る動物が犬か猫かを分類する\n",
    "\n",
    "## 学習に使うデータセットをインポートして計測データと教師データに分ける\n",
    "\n",
    "まずは課題の説明欄に記載したURLから犬と猫の画像が入ったzipファイルをダウンロードし、解凍してください。\n",
    "表示された `dc_photos` フォルダを、Cloud9のワークスペース直下（このノートブックと同じディレクトリ）にアップロードします。\n",
    "アップロードが完了した状態で、下記のコードを実行して、画像のデータセットを読み込んでください。"
   ]
  },
  {
   "cell_type": "code",
   "execution_count": null,
   "metadata": {},
   "outputs": [],
   "source": [
    "import imageio\n",
    "import numpy as np\n",
    "\n",
    "# 写真は全て 75ピクセル × 75ピクセル のRGBカラー画像\n",
    "PHOTO_SIZE = 75 * 75 * 3\n",
    "\n",
    "# 空の配列（計測データ X と教師データ y）を用意する\n",
    "X = np.empty((0, PHOTO_SIZE), np.uint8)\n",
    "y = np.empty(0, np.uint8)\n",
    "\n",
    "# 犬と猫の画像を配列形式で読み込んでXに格納（axis = 0で二次元配列の縦（行）に要素を追加する）\n",
    "# y には 犬 なら 0, 猫 なら 1 で整数値のデータを追加\n",
    "for i in range(1, 201):\n",
    "    p1 = imageio.imread(f\"dc_photos/dogs/dog-{i:03d}.jpg\").reshape(1, PHOTO_SIZE)\n",
    "    X = np.append(X, p1, axis = 0)\n",
    "    y = np.append(y, np.array([0], dtype = np.uint8))\n",
    "    \n",
    "    p2 = imageio.imread(f\"dc_photos/cats/cat-{i:03d}.jpg\").reshape(1, PHOTO_SIZE)\n",
    "    X = np.append(X, p2, axis = 0)\n",
    "    y = np.append(y, np.array([1], dtype = np.uint8))"
   ]
  },
  {
   "cell_type": "markdown",
   "metadata": {},
   "source": [
    "`X` と `y` の要素数を確認してください。"
   ]
  },
  {
   "cell_type": "code",
   "execution_count": null,
   "metadata": {},
   "outputs": [],
   "source": [
    "# Xおよびyの要素数を確認する（命令を追記すること）\n"
   ]
  },
  {
   "cell_type": "markdown",
   "metadata": {},
   "source": [
    "Xとyの中身の確認は、要素数が多いので省略。上記の繰り返し処理により、Xとyには、犬と猫の情報が交互に格納された状態になっています。また、犬と猫それぞれの写真には偏りがありません。（実際のデータを確認してみてください。Jupyter Notebookに表示する処理は省略します。）\n",
    "\n",
    "## データを訓練データとテストデータに分ける\n",
    "\n",
    "今回の課題において `train_test_split` は使用せず、単純に300件目で区切る形で訓練データとテストデータを分けましょう。"
   ]
  },
  {
   "cell_type": "code",
   "execution_count": null,
   "metadata": {},
   "outputs": [],
   "source": [
    "# 300件目までを訓練データ、301件目以降をテストデータに分割する（コメントを外した上で命令を追記すること）\n",
    "#X_train = \n",
    "#X_test  = \n",
    "#y_train = \n",
    "#y_test  = "
   ]
  },
  {
   "cell_type": "markdown",
   "metadata": {},
   "source": [
    "Xの全ての要素は 0 から 255までのデータ（色の強さを255段階で表現したもの）になっていますので、スケーリングも不要です。\n",
    "\n",
    "## 訓練データを用いて分類器を作成する\n",
    "\n",
    "このまま線形分類器を作成して、訓練データを設定しましょう。"
   ]
  },
  {
   "cell_type": "code",
   "execution_count": null,
   "metadata": {},
   "outputs": [],
   "source": [
    "# 線形分類器を作成して訓練データを設定する（命令を追記すること）\n"
   ]
  },
  {
   "cell_type": "markdown",
   "metadata": {},
   "source": [
    "## テストデータを分類器にかけて分類を実施する\n",
    "\n",
    "テストデータを分類器にかけてください。"
   ]
  },
  {
   "cell_type": "code",
   "execution_count": null,
   "metadata": {},
   "outputs": [],
   "source": [
    "## テストデータを分類器にかける（命令を追記すること）\n"
   ]
  },
  {
   "cell_type": "markdown",
   "metadata": {},
   "source": [
    "## 結果を表示する\n",
    "\n",
    "では、分類器が出力した結果と正解を比較してみましょう。"
   ]
  },
  {
   "cell_type": "code",
   "execution_count": null,
   "metadata": {},
   "outputs": [],
   "source": [
    "# 分類器の出力結果を表示する（命令を追記すること）\n"
   ]
  },
  {
   "cell_type": "code",
   "execution_count": null,
   "metadata": {},
   "outputs": [],
   "source": [
    "# 正解を表示する（命令を追記すること）\n"
   ]
  },
  {
   "cell_type": "code",
   "execution_count": null,
   "metadata": {},
   "outputs": [],
   "source": [
    "# 混合行列を表示する（命令を追記すること）\n"
   ]
  },
  {
   "cell_type": "code",
   "execution_count": null,
   "metadata": {},
   "outputs": [],
   "source": [
    "# 正答率を確認する（命令を追記すること）\n"
   ]
  }
 ],
 "metadata": {
  "kernelspec": {
   "display_name": "Python 3",
   "language": "python",
   "name": "python3"
  },
  "language_info": {
   "codemirror_mode": {
    "name": "ipython",
    "version": 3
   },
   "file_extension": ".py",
   "mimetype": "text/x-python",
   "name": "python",
   "nbconvert_exporter": "python",
   "pygments_lexer": "ipython3",
   "version": "3.6.5"
  }
 },
 "nbformat": 4,
 "nbformat_minor": 2
}
