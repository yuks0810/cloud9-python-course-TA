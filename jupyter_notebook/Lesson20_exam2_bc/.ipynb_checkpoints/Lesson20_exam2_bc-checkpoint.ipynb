{
 "cells": [
  {
   "cell_type": "markdown",
   "metadata": {},
   "source": [
    "# 【課題2】乳がんの腫瘍が良性か悪性かを予測する\n",
    "\n",
    "## 学習に使うデータセットをインポートする\n",
    "\n",
    "まずは課題の説明欄に記載したURLから腫瘍の計測データが入ったzipファイルをダウンロードし、解凍してください。\n",
    "表示された `breast_cancer_wisconsin_data.csv` ファイルを、Cloud9のワークスペース直下（このノートブックと同じディレクトリ）にアップロードします。\n",
    "アップロードが完了した状態で、下記のコードを実行して、画像のデータセットを読み込んでください。"
   ]
  },
  {
   "cell_type": "code",
   "execution_count": null,
   "metadata": {},
   "outputs": [],
   "source": [
    "# breast_cancer_wisconsin_data.csv を取り込む（命令を追記すること）\n",
    "import pandas as pd\n",
    "\n",
    "\n",
    "# 先頭の5行のみ表示する（命令を追記すること）\n"
   ]
  },
  {
   "cell_type": "markdown",
   "metadata": {},
   "source": [
    "このCSVファイルには30以上の列があります。主要な列のみ、以下に概要を記載します。\n",
    "\n",
    "- id：連番\n",
    "- diagnosis：\"B\"か\"M\"の文字が格納されている（\"B\"：良性、\"M\"：悪性）\n",
    "- radius_mean：中心から外周までの平均距離（半径）\n",
    "- texture_mean：グレースケール（色の濃さ）の平均値\n",
    "- perimeter_mean：外周の平均の長さ\n",
    "\n",
    "今回は `radius_mean`（半径）を説明変数、`diagnosis`（良性か悪性か）を目的変数として回帰を行います。\n",
    "\n",
    "## \tインポートしたデータを計測データと教師データに分ける\n",
    "\n",
    "`radius_mean`列で測定データ `X`を、`diagnosis` 列で教師データ `y` を作成してください。また、DataFrame形式から ndarray 形式に変換しましょう。"
   ]
  },
  {
   "cell_type": "code",
   "execution_count": null,
   "metadata": {},
   "outputs": [],
   "source": [
    "# X と y を作成する（命令を追記すること）\n"
   ]
  },
  {
   "cell_type": "markdown",
   "metadata": {},
   "source": [
    "さて、`y` には \"B\" もしくは \"M\" という文字データが入っています。数値化した方がコンピュータは学習しやすくなるので、データの前処理のひとつ「カテゴリの数値化」を実行しましょう。カテゴリの数値化をするには `LabelEncoder` というものを利用します。\n",
    "\n",
    "[sklearn.preprocessing.LabelEncoder - scikit-learn 0.19 documentation](http://scikit-learn.org/0.19/modules/generated/sklearn.preprocessing.LabelEncoder.html)\n",
    "\n",
    "※ `LabelEncoder` は、ここまでのレッスンの内容では登場しませんでしたので、以下のコードをそのまま実行いただければ大丈夫です。"
   ]
  },
  {
   "cell_type": "code",
   "execution_count": null,
   "metadata": {},
   "outputs": [],
   "source": [
    "# カテゴリの数値化\n",
    "from sklearn.preprocessing import LabelEncoder\n",
    "le = LabelEncoder()\n",
    "le.fit([\"B\", \"M\"])                         # 良性：0, 悪性：1\n",
    "y = le.transform(y.flatten())\n",
    "\n",
    "# 数値化した状態を確認してみる\n",
    "print(y)"
   ]
  },
  {
   "cell_type": "markdown",
   "metadata": {},
   "source": [
    "## \tデータを訓練データとテストデータに分ける\n",
    "\n",
    "`X` および `y` を訓練データとテストデータに分けましょう。その際、訓練データ8割、テストデータ2割としてください。"
   ]
  },
  {
   "cell_type": "code",
   "execution_count": null,
   "metadata": {},
   "outputs": [],
   "source": [
    "# 訓練データ8割、テストデータ2割に分割する（命令を追記すること）\n"
   ]
  },
  {
   "cell_type": "markdown",
   "metadata": {},
   "source": [
    "## 訓練データを用いて予測モデルを作成する\n",
    "\n",
    "今までの回帰プログラムでは線形分析を利用しました。線形回帰は、ボストンの住宅価格で描いたような直線のグラフになります。\n",
    "\n",
    "しかし今回は **ロジスティック回帰** を利用します。\n",
    "\n",
    "[ロジスティック回帰 - Wikipedia](https://ja.wikipedia.org/wiki/%E3%83%AD%E3%82%B8%E3%82%B9%E3%83%86%E3%82%A3%E3%83%83%E3%82%AF%E5%9B%9E%E5%B8%B0)\n",
    "\n",
    "ロジスティック回帰は以下の赤線のようなグラフを描くため、`y` が2つの値しか存在しない場合に利用すると良い精度が得られます。\n",
    "\n",
    "![ml_14.png](https://techacademy.s3.amazonaws.com/bootcamp/python/machine-learning/ml_14.png)\n",
    "\n",
    "ロジスティック回帰は `LogisticRegression` クラスを利用します。使い方は線形回帰の `LinearRegression` と同じです。コンストラクタで回帰モデルのオブジェクトを作成し、訓練データを指定して `fit()` を実行します。より詳しい情報は公式ドキュメントを参照してください。\n",
    "\n",
    "[sklearn.linear_model.LogisticRegression - scikit-learn 0.19 documentation](http://scikit-learn.org/0.19/modules/generated/sklearn.linear_model.LogisticRegression.html)"
   ]
  },
  {
   "cell_type": "code",
   "execution_count": null,
   "metadata": {},
   "outputs": [],
   "source": [
    "# ロジスティック回帰の回帰モデルを作成する\n",
    "from sklearn.linear_model import LogisticRegression\n",
    "model = LogisticRegression()\n",
    "\n",
    "# 訓練データを回帰モデルに設定する（命令を追記すること）\n"
   ]
  },
  {
   "cell_type": "markdown",
   "metadata": {},
   "source": [
    "## テストデータを回帰モデルに当てはめて予測を実施する\n",
    "\n",
    "この回帰モデルを使って予測を実行しましょう。"
   ]
  },
  {
   "cell_type": "code",
   "execution_count": null,
   "metadata": {},
   "outputs": [],
   "source": [
    "# 予測を実行する（命令を追記すること）\n"
   ]
  },
  {
   "cell_type": "markdown",
   "metadata": {},
   "source": [
    "## 結果を表示する\n",
    "\n",
    "まずは、予測値と実際の値をそのまま表示してください。"
   ]
  },
  {
   "cell_type": "code",
   "execution_count": null,
   "metadata": {},
   "outputs": [],
   "source": [
    "# 予測値を表示する（命令を追記すること）\n"
   ]
  },
  {
   "cell_type": "code",
   "execution_count": null,
   "metadata": {},
   "outputs": [],
   "source": [
    "# 実際の値を表示する（命令を追記すること）\n"
   ]
  },
  {
   "cell_type": "markdown",
   "metadata": {},
   "source": [
    "この機械学習は回帰ではありますが、分類に近いところがありますので、予測の精度を混合行列で示したり、正答率を表示したりすることができます。"
   ]
  },
  {
   "cell_type": "code",
   "execution_count": null,
   "metadata": {},
   "outputs": [],
   "source": [
    "# 混合行列で集計結果を表示する（命令を追記すること）\n"
   ]
  },
  {
   "cell_type": "code",
   "execution_count": null,
   "metadata": {},
   "outputs": [],
   "source": [
    "# 正答率を表示する（命令を追記すること）\n"
   ]
  },
  {
   "cell_type": "markdown",
   "metadata": {},
   "source": [
    "最後にグラフを表示してみましょう。"
   ]
  },
  {
   "cell_type": "code",
   "execution_count": null,
   "metadata": {},
   "outputs": [],
   "source": [
    "# ロジスティック回帰のグラフを描くために必要な関数と処理。ここの内容は変更しない！\n",
    "def logit(x, lr):\n",
    "    return x * lr.coef_ + lr.intercept_\n",
    "\n",
    "def p(x, lr):\n",
    "    return 1 / (1 + np.exp(-logit(x, lr)))\n",
    "\n",
    "import math\n",
    "X_test_min = math.floor(np.min(X_test))\n",
    "X_test_max = math.ceil(np.max(X_test))"
   ]
  },
  {
   "cell_type": "code",
   "execution_count": null,
   "metadata": {},
   "outputs": [],
   "source": [
    "%matplotlib inline\n",
    "import matplotlib.pyplot as plt\n",
    "\n",
    "# テストデータを青色の散布図として表示する（命令を追記すること）\n",
    "\n",
    "\n",
    "# ロジスティック回帰の曲線グラフを赤色の線で表示する。ここの内容は変更しない！\n",
    "X_plot = np.arange(X_test_min, X_test_max)\n",
    "plt.plot(X_plot, p(X_plot, model).flatten(), color = \"red\")"
   ]
  }
 ],
 "metadata": {
  "kernelspec": {
   "display_name": "Python 3",
   "language": "python",
   "name": "python3"
  },
  "language_info": {
   "codemirror_mode": {
    "name": "ipython",
    "version": 3
   },
   "file_extension": ".py",
   "mimetype": "text/x-python",
   "name": "python",
   "nbconvert_exporter": "python",
   "pygments_lexer": "ipython3",
   "version": "3.6.5"
  }
 },
 "nbformat": 4,
 "nbformat_minor": 2
}
