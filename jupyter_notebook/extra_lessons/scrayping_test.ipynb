{
 "cells": [
  {
   "cell_type": "code",
   "execution_count": 6,
   "metadata": {},
   "outputs": [],
   "source": [
    "import urllib.request as request\n",
    "from bs4 import BeautifulSoup\n",
    "import pandas as pd\n",
    "from datetime import datetime, timedelta, timezone\n",
    "\n",
    "url = 'https://stocks.finance.yahoo.co.jp/stocks/detail/?code=998407.O'\n",
    "\n",
    "response = request.urlopen(url)\n",
    "\n",
    "bs = BeautifulSoup(response, 'html.parser')"
   ]
  },
  {
   "cell_type": "code",
   "execution_count": 8,
   "metadata": {},
   "outputs": [
    {
     "name": "stdout",
     "output_type": "stream",
     "text": [
      "22,090.12\n"
     ]
    }
   ],
   "source": [
    "stoksPrice = bs.select('.stoksPrice')[1].text\n",
    "print(stoksPrice)"
   ]
  },
  {
   "cell_type": "code",
   "execution_count": 9,
   "metadata": {},
   "outputs": [],
   "source": [
    "# 今日の日付を取得\n",
    "jst = timezone(timedelta(hours=+9), 'JST')\n",
    "today = datetime.now(jst).date().isoformat()\n",
    "\n",
    "# PandasのDataFrameを生成\n",
    "df = pd.DataFrame(data = [[today, stoksPrice]])\n",
    "\n",
    "# CSVに保存（追記）\n",
    "df.to_csv('stoks_price.csv', mode = 'a', header = False, index = False)"
   ]
  },
  {
   "cell_type": "code",
   "execution_count": null,
   "metadata": {},
   "outputs": [],
   "source": []
  }
 ],
 "metadata": {
  "kernelspec": {
   "display_name": "Python 3",
   "language": "python",
   "name": "python3"
  },
  "language_info": {
   "codemirror_mode": {
    "name": "ipython",
    "version": 3
   },
   "file_extension": ".py",
   "mimetype": "text/x-python",
   "name": "python",
   "nbconvert_exporter": "python",
   "pygments_lexer": "ipython3",
   "version": "3.6.5"
  }
 },
 "nbformat": 4,
 "nbformat_minor": 2
}
