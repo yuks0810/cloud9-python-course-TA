{
 "cells": [
  {
   "cell_type": "code",
   "execution_count": 27,
   "metadata": {},
   "outputs": [],
   "source": [
    "import zipfile as zf \n",
    "files = zf.ZipFile(\"dc_photos.zip\", 'r') \n",
    "files.extractall('jupyter_notebook') \n",
    "files.close() "
   ]
  },
  {
   "cell_type": "markdown",
   "metadata": {},
   "source": [
    "# 【課題1】写真に映る動物が犬か猫かを分類する\n",
    "\n",
    "## 学習に使うデータセットをインポートして計測データと教師データに分ける\n",
    "\n",
    "まずは課題の説明欄に記載したURLから犬と猫の画像が入ったzipファイルをダウンロードし、解凍してください。\n",
    "表示された `dc_photos` フォルダを、Cloud9のワークスペース直下（このノートブックと同じディレクトリ）にアップロードします。\n",
    "アップロードが完了した状態で、下記のコードを実行して、画像のデータセットを読み込んでください。"
   ]
  },
  {
   "cell_type": "code",
   "execution_count": 28,
   "metadata": {},
   "outputs": [],
   "source": [
    "import imageio\n",
    "import numpy as np\n",
    "\n",
    "# 写真は全て 75ピクセル × 75ピクセル のRGBカラー画像\n",
    "PHOTO_SIZE = 75 * 75 * 3\n",
    "\n",
    "# 空の配列（計測データ X と教師データ y）を用意する\n",
    "X = np.empty((0, PHOTO_SIZE), np.uint8)\n",
    "y = np.empty(0, np.uint8)\n",
    "\n",
    "# 犬と猫の画像を配列形式で読み込んでXに格納（axis = 0で二次元配列の縦（行）に要素を追加する）\n",
    "# y には 犬 なら 0, 猫 なら 1 で整数値のデータを追加\n",
    "for i in range(1, 201):\n",
    "    p1 = imageio.imread(f\"dc_photos/dogs/dog-{i:03d}.jpg\").reshape(1, PHOTO_SIZE)\n",
    "    X = np.append(X, p1, axis = 0)\n",
    "    y = np.append(y, np.array([0], dtype = np.uint8))\n",
    "    \n",
    "    p2 = imageio.imread(f\"dc_photos/cats/cat-{i:03d}.jpg\").reshape(1, PHOTO_SIZE)\n",
    "    X = np.append(X, p2, axis = 0)\n",
    "    y = np.append(y, np.array([1], dtype = np.uint8))"
   ]
  },
  {
   "cell_type": "markdown",
   "metadata": {},
   "source": [
    "`X` と `y` の要素数を確認してください。"
   ]
  },
  {
   "cell_type": "code",
   "execution_count": 29,
   "metadata": {
    "scrolled": true
   },
   "outputs": [
    {
     "name": "stdout",
     "output_type": "stream",
     "text": [
      "[[199 197 123 ... 139 138  82]\n",
      " [ 62  53  46 ...  50  40  41]\n",
      " [  3   1   6 ... 182 134 130]\n",
      " ...\n",
      " [242 118  80 ... 122 101  82]\n",
      " [213 211 216 ...  47  47  49]\n",
      " [163 118  97 ... 230 204 207]]\n",
      "[0 1 0 1 0 1 0 1 0 1 0 1 0 1 0 1 0 1 0 1 0 1 0 1 0 1 0 1 0 1 0 1 0 1 0 1 0\n",
      " 1 0 1 0 1 0 1 0 1 0 1 0 1 0 1 0 1 0 1 0 1 0 1 0 1 0 1 0 1 0 1 0 1 0 1 0 1\n",
      " 0 1 0 1 0 1 0 1 0 1 0 1 0 1 0 1 0 1 0 1 0 1 0 1 0 1 0 1 0 1 0 1 0 1 0 1 0\n",
      " 1 0 1 0 1 0 1 0 1 0 1 0 1 0 1 0 1 0 1 0 1 0 1 0 1 0 1 0 1 0 1 0 1 0 1 0 1\n",
      " 0 1 0 1 0 1 0 1 0 1 0 1 0 1 0 1 0 1 0 1 0 1 0 1 0 1 0 1 0 1 0 1 0 1 0 1 0\n",
      " 1 0 1 0 1 0 1 0 1 0 1 0 1 0 1 0 1 0 1 0 1 0 1 0 1 0 1 0 1 0 1 0 1 0 1 0 1\n",
      " 0 1 0 1 0 1 0 1 0 1 0 1 0 1 0 1 0 1 0 1 0 1 0 1 0 1 0 1 0 1 0 1 0 1 0 1 0\n",
      " 1 0 1 0 1 0 1 0 1 0 1 0 1 0 1 0 1 0 1 0 1 0 1 0 1 0 1 0 1 0 1 0 1 0 1 0 1\n",
      " 0 1 0 1 0 1 0 1 0 1 0 1 0 1 0 1 0 1 0 1 0 1 0 1 0 1 0 1 0 1 0 1 0 1 0 1 0\n",
      " 1 0 1 0 1 0 1 0 1 0 1 0 1 0 1 0 1 0 1 0 1 0 1 0 1 0 1 0 1 0 1 0 1 0 1 0 1\n",
      " 0 1 0 1 0 1 0 1 0 1 0 1 0 1 0 1 0 1 0 1 0 1 0 1 0 1 0 1 0 1]\n"
     ]
    }
   ],
   "source": [
    "# Xおよびyの要素数を確認する（命令を追記すること）\n",
    "print(X)\n",
    "print(y)"
   ]
  },
  {
   "cell_type": "markdown",
   "metadata": {},
   "source": [
    "Xとyの中身の確認は、要素数が多いので省略。上記の繰り返し処理により、Xとyには、犬と猫の情報が交互に格納された状態になっています。また、犬と猫それぞれの写真には偏りがありません。（実際のデータを確認してみてください。Jupyter Notebookに表示する処理は省略します。）\n",
    "\n",
    "## データを訓練データとテストデータに分ける\n",
    "\n",
    "今回の課題において `train_test_split` は使用せず、単純に300件目で区切る形で訓練データとテストデータを分けましょう。"
   ]
  },
  {
   "cell_type": "code",
   "execution_count": 30,
   "metadata": {},
   "outputs": [],
   "source": [
    "#300件目までを訓練データ、301件目以降をテストデータに分割する（コメントを外した上で命令を追記すること）\n",
    "X_train =  X[:300]\n",
    "X_test  =  X[300:]\n",
    "y_train =  y[:300]\n",
    "y_test  =  y[300:]"
   ]
  },
  {
   "cell_type": "markdown",
   "metadata": {},
   "source": [
    "Xの全ての要素は 0 から 255までのデータ（色の強さを255段階で表現したもの）になっていますので、スケーリングも不要です。\n",
    "\n",
    "## 訓練データを用いて分類器を作成する\n",
    "\n",
    "このまま線形分類器を作成して、訓練データを設定しましょう。"
   ]
  },
  {
   "cell_type": "code",
   "execution_count": 31,
   "metadata": {},
   "outputs": [
    {
     "data": {
      "text/plain": [
       "SVC(C=1.0, cache_size=200, class_weight=None, coef0=0.0,\n",
       "  decision_function_shape='ovr', degree=3, gamma='auto', kernel='linear',\n",
       "  max_iter=-1, probability=False, random_state=None, shrinking=True,\n",
       "  tol=0.001, verbose=False)"
      ]
     },
     "execution_count": 31,
     "metadata": {},
     "output_type": "execute_result"
    }
   ],
   "source": [
    "# 線形分類器を作成して訓練データを設定する（命令を追記すること）\n",
    "\n",
    "from sklearn.svm import SVC\n",
    "classifier = SVC(kernel = \"linear\")\n",
    "classifier.fit(X_train, y_train)"
   ]
  },
  {
   "cell_type": "markdown",
   "metadata": {},
   "source": [
    "## テストデータを分類器にかけて分類を実施する\n",
    "\n",
    "テストデータを分類器にかけてください。"
   ]
  },
  {
   "cell_type": "code",
   "execution_count": 32,
   "metadata": {},
   "outputs": [],
   "source": [
    "## テストデータを分類器にかける（命令を追記すること）\n",
    "y_pred = classifier.predict(X_test)"
   ]
  },
  {
   "cell_type": "markdown",
   "metadata": {},
   "source": [
    "## 結果を表示する\n",
    "\n",
    "では、分類器が出力した結果と正解を比較してみましょう。"
   ]
  },
  {
   "cell_type": "code",
   "execution_count": 33,
   "metadata": {
    "scrolled": true
   },
   "outputs": [
    {
     "name": "stdout",
     "output_type": "stream",
     "text": [
      "[0 1 0 1 0 1 0 1 0 1 1 1 0 1 0 1 0 1 0 0 0 1 0 1 0 1 1 1 0 1 0 1 0 1 0 1 0\n",
      " 0 0 0 0 1 0 1 0 1 0 0 0 1 0 1 0 1 0 1 0 1 0 1 0 0 0 1 1 1 0 0 0 1 0 0 0 0\n",
      " 0 0 0 1 0 1 0 1 0 1 0 0 0 1 0 0 0 1 0 1 0 0 0 1 0 1]\n"
     ]
    }
   ],
   "source": [
    "# 分類器の出力結果を表示する（命令を追記すること）\n",
    "print(y_pred)"
   ]
  },
  {
   "cell_type": "code",
   "execution_count": 34,
   "metadata": {},
   "outputs": [
    {
     "name": "stdout",
     "output_type": "stream",
     "text": [
      "[0 1 0 1 0 1 0 1 0 1 0 1 0 1 0 1 0 1 0 1 0 1 0 1 0 1 0 1 0 1 0 1 0 1 0 1 0\n",
      " 1 0 1 0 1 0 1 0 1 0 1 0 1 0 1 0 1 0 1 0 1 0 1 0 1 0 1 0 1 0 1 0 1 0 1 0 1\n",
      " 0 1 0 1 0 1 0 1 0 1 0 1 0 1 0 1 0 1 0 1 0 1 0 1 0 1]\n"
     ]
    }
   ],
   "source": [
    "print(y_test)"
   ]
  },
  {
   "cell_type": "code",
   "execution_count": 35,
   "metadata": {},
   "outputs": [
    {
     "name": "stdout",
     "output_type": "stream",
     "text": [
      "[[47  3]\n",
      " [12 38]]\n"
     ]
    }
   ],
   "source": [
    "# 混合行列を表示する（命令を追記すること）\n",
    "from sklearn import metrics \n",
    "print(metrics.confusion_matrix(y_test, y_pred))"
   ]
  },
  {
   "cell_type": "code",
   "execution_count": 37,
   "metadata": {},
   "outputs": [
    {
     "name": "stdout",
     "output_type": "stream",
     "text": [
      "             precision    recall  f1-score   support\n",
      "\n",
      "          0       0.80      0.94      0.86        50\n",
      "          1       0.93      0.76      0.84        50\n",
      "\n",
      "avg / total       0.86      0.85      0.85       100\n",
      "\n"
     ]
    }
   ],
   "source": [
    "# 正答率を確認する（命令を追記すること）\n",
    "print(metrics.classification_report(y_test, y_pred))"
   ]
  },
  {
   "cell_type": "code",
   "execution_count": null,
   "metadata": {},
   "outputs": [],
   "source": []
  },
  {
   "cell_type": "code",
   "execution_count": null,
   "metadata": {},
   "outputs": [],
   "source": []
  }
 ],
 "metadata": {
  "kernelspec": {
   "display_name": "Python 3",
   "language": "python",
   "name": "python3"
  },
  "language_info": {
   "codemirror_mode": {
    "name": "ipython",
    "version": 3
   },
   "file_extension": ".py",
   "mimetype": "text/x-python",
   "name": "python",
   "nbconvert_exporter": "python",
   "pygments_lexer": "ipython3",
   "version": "3.6.5"
  }
 },
 "nbformat": 4,
 "nbformat_minor": 2
}
